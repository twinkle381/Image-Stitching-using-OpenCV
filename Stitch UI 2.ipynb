{
 "cells": [
  {
   "cell_type": "code",
   "execution_count": 1,
   "id": "7eecb895",
   "metadata": {},
   "outputs": [],
   "source": [
    "import cv2\n",
    "from tkinter import Tk, Button, filedialog, Label, StringVar\n",
    "from PIL import Image, ImageTk\n"
   ]
  },
  {
   "cell_type": "code",
   "execution_count": 2,
   "id": "3498c46a",
   "metadata": {},
   "outputs": [],
   "source": [
    "# Global variable to store the stitched result\n",
    "result = None"
   ]
  },
  {
   "cell_type": "code",
   "execution_count": 3,
   "id": "a2fe9f24",
   "metadata": {},
   "outputs": [],
   "source": [
    "def select_image(var):\n",
    "    # Function to select an image using file dialog\n",
    "    file_path = filedialog.askopenfilename()\n",
    "    var.set(file_path)"
   ]
  },
  {
   "cell_type": "code",
   "execution_count": 4,
   "id": "03e4dc92",
   "metadata": {},
   "outputs": [],
   "source": [
    "def stitch_images():\n",
    "    global result\n",
    "    train_image_path = train_image_var.get()\n",
    "    query_image_path = query_image_var.get()\n",
    "\n",
    "    if train_image_path and query_image_path:\n",
    "        # Stitch images using OpenCV\n",
    "        stitcher = cv2.Stitcher_create()\n",
    "        status, result = stitcher.stitch((cv2.imread(train_image_path), cv2.imread(query_image_path)))\n",
    "\n",
    "        if status == cv2.Stitcher_OK:\n",
    "            # Apply post-processing to the stitched result\n",
    "            result = cv2.cvtColor(result, cv2.COLOR_BGR2RGB)\n",
    "            result = cv2.normalize(result, None, 0, 255, cv2.NORM_MINMAX)\n",
    "            result = cv2.convertScaleAbs(result)\n",
    "\n",
    "            # Display the stitched result in the GUI\n",
    "            stitched_image = Image.fromarray(result)\n",
    "            stitched_image.thumbnail((1200, 1200))  # Resize the image\n",
    "            stitched_photo = ImageTk.PhotoImage(stitched_image)\n",
    "            result_label.config(image=stitched_photo)\n",
    "            result_label.image = stitched_photo\n",
    "        else:\n",
    "            print(\"Error: Stitching failed.\")\n",
    "    else:\n",
    "        print(\"Error: Please select both train and query images.\")"
   ]
  },
  {
   "cell_type": "code",
   "execution_count": 5,
   "id": "b804aa71",
   "metadata": {},
   "outputs": [
    {
     "data": {
      "text/plain": [
       "''"
      ]
     },
     "execution_count": 5,
     "metadata": {},
     "output_type": "execute_result"
    }
   ],
   "source": [
    "# Create the main application window\n",
    "root = Tk()\n",
    "root.title(\"Image Stitching Application\")"
   ]
  },
  {
   "cell_type": "code",
   "execution_count": 6,
   "id": "8a500cb6",
   "metadata": {},
   "outputs": [],
   "source": [
    "# StringVar to store selected image paths\n",
    "train_image_var = StringVar()\n",
    "query_image_var = StringVar()\n"
   ]
  },
  {
   "cell_type": "code",
   "execution_count": 7,
   "id": "e1d5e311",
   "metadata": {},
   "outputs": [],
   "source": [
    "# Labels and buttons for Train Image\n",
    "Label(root, text=\"Train Image:\", fg=\"blue\").pack()\n",
    "Label(root, textvariable=train_image_var).pack()\n",
    "Button(root, text=\"Select Train Image\", command=lambda: select_image(train_image_var)).pack(pady=10)"
   ]
  },
  {
   "cell_type": "code",
   "execution_count": 8,
   "id": "59a23967",
   "metadata": {},
   "outputs": [],
   "source": [
    "# Labels and buttons for Query Image\n",
    "Label(root, text=\"Query Image:\", fg=\"green\").pack()\n",
    "Label(root, textvariable=query_image_var).pack()\n",
    "Button(root, text=\"Select Query Image\", command=lambda: select_image(query_image_var)).pack(pady=10)\n"
   ]
  },
  {
   "cell_type": "code",
   "execution_count": 9,
   "id": "126f658f",
   "metadata": {},
   "outputs": [],
   "source": [
    "# Label to display the stitched result\n",
    "result_label = Label(root)\n",
    "result_label.pack(pady=20)"
   ]
  },
  {
   "cell_type": "code",
   "execution_count": 10,
   "id": "265993e8",
   "metadata": {},
   "outputs": [],
   "source": [
    "# Button to trigger image stitching\n",
    "Button(root, text=\"Stitch Images\", command=stitch_images, bg=\"orange\").pack(pady=10)"
   ]
  },
  {
   "cell_type": "code",
   "execution_count": 11,
   "id": "fda576f1",
   "metadata": {},
   "outputs": [],
   "source": [
    "# Run the application\n",
    "root.mainloop()"
   ]
  },
  {
   "cell_type": "code",
   "execution_count": null,
   "id": "3319043f",
   "metadata": {},
   "outputs": [],
   "source": []
  },
  {
   "cell_type": "code",
   "execution_count": null,
   "id": "e0d8cab3",
   "metadata": {},
   "outputs": [],
   "source": []
  },
  {
   "cell_type": "code",
   "execution_count": null,
   "id": "1909a6cc",
   "metadata": {},
   "outputs": [],
   "source": []
  }
 ],
 "metadata": {
  "kernelspec": {
   "display_name": "Python 3 (ipykernel)",
   "language": "python",
   "name": "python3"
  },
  "language_info": {
   "codemirror_mode": {
    "name": "ipython",
    "version": 3
   },
   "file_extension": ".py",
   "mimetype": "text/x-python",
   "name": "python",
   "nbconvert_exporter": "python",
   "pygments_lexer": "ipython3",
   "version": "3.11.5"
  }
 },
 "nbformat": 4,
 "nbformat_minor": 5
}
